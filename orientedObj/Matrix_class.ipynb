{
 "cells": [
  {
   "cell_type": "code",
   "execution_count": 174,
   "metadata": {},
   "outputs": [],
   "source": [
    "# 写一个矩阵的类，实现矩阵乘法，只能使用 python 的类(class)和列表(list)\n",
    "import random\n",
    "class Matrix_r():\n",
    "    def __init__(self,width,height,constVal,randon=False):\n",
    "        self.width = width\n",
    "        self.height = height\n",
    "        self.MVal=[[]]#must init,or print by M.MVal will be [], #M=Matrix_r(4,5,1) \n",
    "        if randon == False:\n",
    "            self.MVal=[[constVal for col in range(height)] for row in range(width)]\n",
    "        else:\n",
    "            self.MVal=[[random.uniform(-1,1) for col in range(height)] for row in range(width)]\n",
    "    def Multi(self,MatrixB):\n",
    "        #input check\n",
    "        output =[]\n",
    "        colout = []\n",
    "        if self.height != MatrixB.width:\n",
    "            print(\"plase check the Matrix size:\",self.height , MatrixB.width)\n",
    "        print(MatrixB.height)\n",
    "        for i in range( self.width):\n",
    "            colout = []\n",
    "            for j in range(MatrixB.height):\n",
    "                #get col \n",
    "                col = list(map(lambda x:MatrixB.MVal[x][i],range(MatrixB.width)))\n",
    "                #list multi\n",
    "                colout.append(sum(list([a*b for a, b in zip(self.MVal[i],col)])))\n",
    "            output.append(colout)\n",
    "        return output"
   ]
  },
  {
   "cell_type": "code",
   "execution_count": 175,
   "metadata": {},
   "outputs": [
    {
     "name": "stdout",
     "output_type": "stream",
     "text": [
      "3\n",
      "[[6, 6, 6], [6, 6, 6]]\n"
     ]
    }
   ],
   "source": [
    "M=Matrix_r(2,3,1,False)\n",
    "MB=Matrix_r(3,3,2,False)\n",
    "# print(M.MVal)\n",
    "# width = 4\n",
    "# height = 5\n",
    "# constVal = 1\n",
    "# b = [[constVal for col in range(width)] for row in range(height)]\n",
    "print(M.Multi(MB))\n"
   ]
  },
  {
   "cell_type": "code",
   "execution_count": 176,
   "metadata": {},
   "outputs": [
    {
     "name": "stdout",
     "output_type": "stream",
     "text": [
      "(2, 5) (5, 3) [[10 10 10]\n",
      " [10 10 10]]\n"
     ]
    }
   ],
   "source": [
    "#test\n",
    "import numpy as np\n",
    "a = np.array([[1,1,1,1,1],[1,1,1,1,1]])\n",
    "b = np.array([[2,2,2],[2,2,2],[2,2,2],[2,2,2],[2,2,2]])\n",
    "d = np.dot(a,b)\n",
    "print(a.shape,b.shape,d)"
   ]
  },
  {
   "cell_type": "code",
   "execution_count": null,
   "metadata": {},
   "outputs": [],
   "source": []
  }
 ],
 "metadata": {
  "kernelspec": {
   "display_name": "Python 3",
   "language": "python",
   "name": "python3"
  },
  "language_info": {
   "codemirror_mode": {
    "name": "ipython",
    "version": 3
   },
   "file_extension": ".py",
   "mimetype": "text/x-python",
   "name": "python",
   "nbconvert_exporter": "python",
   "pygments_lexer": "ipython3",
   "version": "3.6.4"
  }
 },
 "nbformat": 4,
 "nbformat_minor": 2
}
