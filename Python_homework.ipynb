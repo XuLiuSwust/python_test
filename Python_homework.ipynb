{
 "cells": [
  {
   "cell_type": "code",
   "execution_count": null,
   "metadata": {},
   "outputs": [],
   "source": [
    "# 使用循环和列表推导找出单词长度大于某个\n",
    "# 数字的单词\n",
    "a = 6\n",
    "words = [\"apple\",\"banana\",\"orange\",\"peach\",\"kiwi\"]\n",
    "b=[stri for stri in words if len(stri)>=a]\n",
    "print(b)"
   ]
  },
  {
   "cell_type": "code",
   "execution_count": null,
   "metadata": {},
   "outputs": [],
   "source": [
    "#   寻找两个列表中的相同元素 \n",
    "l1=[1,2,5]\n",
    "l2=[6,2,7]\n",
    "b = set(l1)&set(l2)\n",
    "print(list(b))"
   ]
  },
  {
   "cell_type": "code",
   "execution_count": null,
   "metadata": {},
   "outputs": [],
   "source": [
    "#  去除一个列表中相领且重复的元素。\n",
    "l1=[1,2,3,4,4,4,4,4,4,5,6,6,8,8,12,12,12,12,13]\n",
    "l2 = list(set(l1))\n",
    "print(l2)"
   ]
  },
  {
   "cell_type": "code",
   "execution_count": null,
   "metadata": {},
   "outputs": [],
   "source": [
    "# 用户名密码对应\n",
    "# 给定两个列表，一个存放用户名，一个存放密码。请将用户名和密码按顺序进行对应为一个元素。\n",
    "Username=['jack','bob','john'] \n",
    "Password=['123','859','hello']\n",
    "# [(x,y) for x,y zip(Username,Password)]\n",
    "zip(Username,Password)"
   ]
  },
  {
   "cell_type": "code",
   "execution_count": null,
   "metadata": {},
   "outputs": [],
   "source": [
    "# 使用列表推导式，打印出颜色与尺寸的（组合）\n",
    "colors=['black','white']\n",
    "sizes=['S','M','L']\n",
    "[(x,y) for x in colors for y in sizes]"
   ]
  },
  {
   "cell_type": "code",
   "execution_count": null,
   "metadata": {},
   "outputs": [],
   "source": [
    "# 词频统计\n",
    "# l1=['sklearn','AI','julyedu.com','Caffe','AI','sklearn']\n",
    "# 对l1包含的单词，利用dict统计词频\n",
    "# 对每个参数进行判断，若在则对应的value+1\n",
    "# 否则根据该字符创建一个key并且value设置为1\n",
    "# 最后输出该词典\n",
    "l1=['sklearn','AI','julyedu.com','Caffe','AI','sklearn']\n",
    "x = list(set(l1))\n",
    "dictc = []\n",
    "print(x)\n",
    "for j in  x:\n",
    "    n = l1.count(j)\n",
    "    dictc.append({j:n})\n",
    "    print(dictc)\n",
    "l1=['sklearn','AI','julyedu.com','Caffe','AI','sklearn']    \n",
    "base={}.fromkeys(l1,0)\n",
    "for i in l1:\n",
    "    base[i] += 1"
   ]
  },
  {
   "cell_type": "code",
   "execution_count": null,
   "metadata": {},
   "outputs": [],
   "source": [
    "# 实现行列互转\n",
    "arr= [[1, 2, 3], [4, 5, 6], [7,8, 9],[10, 11, 12]]\n",
    "ilen = len(arr)\n",
    "jlen = len(arr[0])\n",
    "nrr = []\n",
    "for i in range(ilen):\n",
    "    for j in range(jlen):\n",
    "        nrr[j][i] = arr[i][j]\n",
    "print(nrr)"
   ]
  },
  {
   "cell_type": "code",
   "execution_count": null,
   "metadata": {},
   "outputs": [],
   "source": [
    "#3 input  sort\n",
    "def sort3(a,b,c):\n",
    "    tmp = min(min(a,b),c)\n",
    "    tmpm = max(max(a,b),c)\n",
    "    mid = a+b+c-tmp-tmpm\n",
    "    return tmp,mid,tmpm\n",
    "\n",
    "print(sort3(3,2,8))"
   ]
  },
  {
   "cell_type": "code",
   "execution_count": null,
   "metadata": {},
   "outputs": [],
   "source": [
    "#使用reduce函数实现找出一组数字列表中的最大值\n",
    "from functools import reduce\n",
    "def sortmax_t(*args):\n",
    "    return reduce(lambda x,y:max(x,y),args)\n",
    "nl = [1,2,345,2,3]\n",
    "print(sortmax_t(*nl))"
   ]
  },
  {
   "cell_type": "code",
   "execution_count": null,
   "metadata": {},
   "outputs": [],
   "source": [
    "#求1000以内能同时被3和7整除的数有哪些。要求使用map与filter函数\n",
    "nl = list(range(1000))\n",
    "nb = filter(lambda x: True if x%21==0 else False ,nl)\n"
   ]
  },
  {
   "cell_type": "code",
   "execution_count": null,
   "metadata": {},
   "outputs": [],
   "source": [
    "# #请以round函数，定义一个偏函数roundN，调用\n",
    "# 为输入一个数字N，返回圆周率后N位的数字  提示:  import math\n",
    "#  math.pi\n",
    "import functools\n",
    "import math\n",
    "def roundN(num):\n",
    "    print(round(math.pi,num))\n",
    "    return round(math.pi,num)\n",
    "Roundly =functools.partial(roundN,5)\n",
    "print(Round5())"
   ]
  },
  {
   "cell_type": "code",
   "execution_count": null,
   "metadata": {},
   "outputs": [],
   "source": [
    "# 请以sorted函数，定义一个偏函数sortedDESC，\n",
    "# 结果为输入一个序列，返回为按降序排列后序列\n",
    "import functools\n",
    "def sortedDESC(flag,*args):\n",
    "    return sorted(args,reverse=flag)\n",
    "nl = [1,2,12,4,5,31,7,6]\n",
    "sortedD =functools.partial(sortedDESC,True)\n",
    "print(sortedD(*nl))"
   ]
  },
  {
   "cell_type": "code",
   "execution_count": null,
   "metadata": {},
   "outputs": [],
   "source": [
    "# 要求使用map与filter函数，输出一个输入字\n",
    "# 符串里每个字符出现的次数\n",
    "#  提示：结合dict使用实现\n",
    "strl = \"abdfgasdfddd\"\n",
    "strm = dict(map(lambda x: (x,strl.count(x)),strl))\n",
    "\n",
    "# stri = list(\"abdfgasdfddd\")\n",
    "# base={}.fromkeys(stri,0)\n",
    "# strn = map(lambda x:base[x]+=1,stri)\n",
    "# print(list(strn))"
   ]
  },
  {
   "cell_type": "code",
   "execution_count": 11,
   "metadata": {},
   "outputs": [
    {
     "name": "stdout",
     "output_type": "stream",
     "text": [
      "good,your score is now 169\n",
      "good,your score is now 1168\n",
      "congratulate you are passed\n",
      "good,your score is now 1001\n",
      "congratulate you are passed\n"
     ]
    },
    {
     "data": {
      "text/plain": [
       "2"
      ]
     },
     "execution_count": 11,
     "metadata": {},
     "output_type": "execute_result"
    }
   ],
   "source": [
    "#class\n",
    "#完成一个学生类的设计\n",
    "#要求能查看总学生人数，全部学生姓名，毕业分数标准1000，已经毕业学员数量。\n",
    "#实现考试方法，成绩分数如果大于60分代表其通过考试，分数计入该学员总分。\n",
    "#如果该学员累计分数达到1000分，该学员即毕业\n",
    "#实现查分方法，向该学员返回是否已经毕业，或者还差多少分数才能毕业\n",
    "#实现查询所有已毕业学生数量的功能\n",
    "#实现查询所有学生数量的功能\n",
    "#实现查询所有学生姓名的功能\n",
    "class Student():\n",
    "    student_total = 0\n",
    "    student_list=[]\n",
    "    student_graduated=0\n",
    "    pass_score = 1000\n",
    "    \n",
    "    def __init__(self,name,age,gender):\n",
    "        self.name = name\n",
    "        self.age = age\n",
    "        self.gender = gender\n",
    "        self.score = 0\n",
    "        Student.student_total += 1\n",
    "        Student.student_list.append(name)\n",
    "    def exam(self,score):\n",
    "        if score<60:\n",
    "            print(\"sorry,you are failed this time,better luck next time\")\n",
    "        else:\n",
    "            self.score += score\n",
    "            print(\"good,your score is now\",self.score)\n",
    "        if self.score>Student.pass_score:\n",
    "            Student.student_graduated += 1\n",
    "            print(\"congratulate you are passed\")\n",
    "    def check(self,):\n",
    "        if self.score < Student.pass_score:\n",
    "            print(\"you have\",Student.pass_score-slef.score,\"have to archive\")\n",
    "        else:\n",
    "            print(\"you have graduated from*\")\n",
    "    @classmethod\n",
    "    def get_student_graduated(cls,):\n",
    "        #print()\n",
    "        return Student.student_graduated\n",
    "    @classmethod\n",
    "    def get_student_total(cls,):\n",
    "        return Student.student_total\n",
    "    @staticmethod\n",
    "    def static():\n",
    "        print(\"this is a static method from Student, it can be called by both the instance and the class\")\n",
    "david = Student('david',22,'male')\n",
    "david.exam(169)\n",
    "david.exam(999)\n",
    "xixi = Student('xixi',22,'male')\n",
    "xixi.exam(1001)\n",
    "\n",
    "Student.get_student_graduated()\n",
    "Student.get_student_total()"
   ]
  },
  {
   "cell_type": "code",
   "execution_count": 18,
   "metadata": {},
   "outputs": [
    {
     "name": "stdout",
     "output_type": "stream",
     "text": [
      "screen_size:5\n",
      "price:6288\n",
      "brand:phone1\n",
      "screen_size:5\n",
      "price:6299\n",
      "brand:phone1\n",
      "play game\n",
      "text message\n",
      "screen_size:5\n",
      "price:6299\n",
      "brand:phone1\n"
     ]
    }
   ],
   "source": [
    "# 创建一个名为phone的类\n",
    "#  1）类实例成员变量有screeen_size、price、brand\n",
    "#  2）给成员变量创建 访问及设置 方法\n",
    "#  3）定义play方法，功能为打印：play game\n",
    "#  4）定义sendMessage方法，功能为打印：text message\n",
    "#  5）定义powerOff方法，功能为打印：power off\n",
    "#  6）创建get_info方法，，打印对象的相关信息\n",
    "#  7）实例化类phone()，对象名为phone1, 屏幕尺寸为5.5,价格为6288,牌为apple\n",
    "#  8）调用3，4，5，6方法，查看结果\n",
    "#  9）实例化类phone()，对象名为phone2, 屏幕尺寸为5,价格为1999,品牌为mi.\n",
    "#  10）调用3，4，5，6方法，查看结果\n",
    "class phone():\n",
    "   \n",
    "    def __init__(self,screen_size,price,brand):\n",
    "        self.screen_size = screen_size\n",
    "        self.price = price\n",
    "        self.brand =brand\n",
    "    def revisit(self):\n",
    "        print(\"screen_size:{}\".format(self.screen_size))\n",
    "        print(\"price:{}\".format(self.price))\n",
    "        print(\"brand:{}\".format(self.brand))\n",
    "    def reset(self,screen_size,price,brand):\n",
    "        self.screen_size = screen_size\n",
    "        self.price = price\n",
    "        self.brand =brand\n",
    "    def play(self,):\n",
    "        print(\"play game\")\n",
    "    def sendMessage(self,):\n",
    "        print(\"text message\")\n",
    "    def get_info(self,):\n",
    "        print(\"screen_size:{}\".format(self.screen_size))\n",
    "        print(\"price:{}\".format(self.price))\n",
    "        print(\"brand:{}\".format(self.brand))\n",
    "p1=phone(5,6288,\"phone1\")\n",
    "p1.revisit()\n",
    "p1.reset(5,6299,\"phone1\")\n",
    "p1.revisit()\n",
    "p1.play()\n",
    "p1.sendMessage()\n",
    "p1.get_info()"
   ]
  },
  {
   "cell_type": "code",
   "execution_count": 28,
   "metadata": {},
   "outputs": [
    {
     "name": "stdout",
     "output_type": "stream",
     "text": [
      "G:\\ML\\cs231n-camp\\assignment\\assignment2\\cs231n\\.gitignore\n",
      "G:\\ML\\cs231n-camp\\assignment\\assignment2\\cs231n\\classifiers\\cnn.py\n",
      "G:\\ML\\cs231n-camp\\assignment\\assignment2\\cs231n\\classifiers\\fc_net.py\n",
      "G:\\ML\\cs231n-camp\\assignment\\assignment2\\cs231n\\classifiers\\__init__.py\n",
      "G:\\ML\\cs231n-camp\\assignment\\assignment2\\cs231n\\datasets\\.gitignore\n",
      "G:\\ML\\cs231n-camp\\assignment\\assignment2\\cs231n\\datasets\\cifar-10-batches-py\\batches.meta\n",
      "G:\\ML\\cs231n-camp\\assignment\\assignment2\\cs231n\\datasets\\cifar-10-batches-py\\data_batch_1\n",
      "G:\\ML\\cs231n-camp\\assignment\\assignment2\\cs231n\\datasets\\cifar-10-batches-py\\data_batch_2\n",
      "G:\\ML\\cs231n-camp\\assignment\\assignment2\\cs231n\\datasets\\cifar-10-batches-py\\data_batch_3\n",
      "G:\\ML\\cs231n-camp\\assignment\\assignment2\\cs231n\\datasets\\cifar-10-batches-py\\data_batch_4\n",
      "G:\\ML\\cs231n-camp\\assignment\\assignment2\\cs231n\\datasets\\cifar-10-batches-py\\data_batch_5\n",
      "G:\\ML\\cs231n-camp\\assignment\\assignment2\\cs231n\\datasets\\cifar-10-batches-py\\readme.html\n",
      "G:\\ML\\cs231n-camp\\assignment\\assignment2\\cs231n\\datasets\\cifar-10-batches-py\\test_batch\n",
      "G:\\ML\\cs231n-camp\\assignment\\assignment2\\cs231n\\datasets\\get_datasets.sh\n",
      "G:\\ML\\cs231n-camp\\assignment\\assignment2\\cs231n\\data_utils.py\n",
      "G:\\ML\\cs231n-camp\\assignment\\assignment2\\cs231n\\fast_layers.py\n",
      "G:\\ML\\cs231n-camp\\assignment\\assignment2\\cs231n\\gradient_check.py\n",
      "G:\\ML\\cs231n-camp\\assignment\\assignment2\\cs231n\\im2col.py\n",
      "G:\\ML\\cs231n-camp\\assignment\\assignment2\\cs231n\\im2col_cython.pyx\n",
      "G:\\ML\\cs231n-camp\\assignment\\assignment2\\cs231n\\layers.py\n",
      "G:\\ML\\cs231n-camp\\assignment\\assignment2\\cs231n\\layer_utils.py\n",
      "G:\\ML\\cs231n-camp\\assignment\\assignment2\\cs231n\\optim.py\n",
      "G:\\ML\\cs231n-camp\\assignment\\assignment2\\cs231n\\setup.py\n",
      "G:\\ML\\cs231n-camp\\assignment\\assignment2\\cs231n\\solver.py\n",
      "G:\\ML\\cs231n-camp\\assignment\\assignment2\\cs231n\\vis_utils.py\n",
      "G:\\ML\\cs231n-camp\\assignment\\assignment2\\cs231n\\__init__.py\n"
     ]
    }
   ],
   "source": [
    "#练习4 ：导入包完成遍历目录 导入os包 创建递归循环完成一个目录的遍历 如果下还有一个目录，依次进行\n",
    "import os\n",
    "def scanfile(path):\n",
    "    filefolder = os.listdir(path)\n",
    "    for filelist in filefolder:\n",
    "        filepath = os.path.join(path,filelist) \n",
    "        if os.path.isfile(filepath):\n",
    "            print(filepath)\n",
    "        else:\n",
    "            scanfile(filepath)\n",
    "\n",
    "scanfile(u'G:\\\\ML\\\\cs231n-camp\\\\assignment\\\\assignment2\\\\cs231n')"
   ]
  },
  {
   "cell_type": "code",
   "execution_count": 37,
   "metadata": {},
   "outputs": [
    {
     "name": "stdout",
     "output_type": "stream",
     "text": [
      "1\n",
      "2\n",
      "3\n",
      "4\n"
     ]
    }
   ],
   "source": [
    "# 作业1 ：新建类并修改其实例的切片访问\n",
    "#  Python中对序列的切片访问，是左闭右开。\n",
    "#  现请您创建一个可被迭代的类\n",
    "#  改变默认的切片访问方式为左闭右闭\n",
    "#  举例:c1=youclassname([0,1,2,3,4,5,6,7,8,9]\n",
    "#  c1[2:7] 返回2,3,4,5,6,7\n",
    "class Newcut():\n",
    "    def __init__(self, value=None):\n",
    "        if value == None:\n",
    "            self.value = []\n",
    "        else:\n",
    "            self.value = value\n",
    "    def __getitem__(self, key):\n",
    "        if type(key) == slice:\n",
    "            start = key.start\n",
    "            stop = key.stop + 1\n",
    "        if key.start == None:\n",
    "            start = 0\n",
    "        if key.stop == None:\n",
    "            stop = -1\n",
    "            return self.value[start:stop]\n",
    "        else:\n",
    "            return str(self.value[key])\n",
    "\n",
    "    def __iter__(self):\n",
    "        return iter(self.value)\n",
    "\n",
    "c1 = Newcut([0, 1, 2, 3, 4, 5, 6, 7, 8, 9])\n",
    "#print(c1[2:7])\n",
    "for n in Newcut([1,2,3,4]):\n",
    "    print (n)"
   ]
  },
  {
   "cell_type": "code",
   "execution_count": 44,
   "metadata": {},
   "outputs": [
    {
     "name": "stdout",
     "output_type": "stream",
     "text": [
      "1\n",
      "2\n",
      "3\n",
      "4\n",
      "lx\n",
      "刘旭\n",
      "5\n"
     ]
    }
   ],
   "source": [
    "#文件读写\n",
    "with open('test.txt','r',encoding=\"utf-8\") as f:#支持中文\n",
    "    line = f.readline()\n",
    "    while line:\n",
    "        print(line.strip())      \n",
    "        line = f.readline()"
   ]
  },
  {
   "cell_type": "code",
   "execution_count": 45,
   "metadata": {},
   "outputs": [
    {
     "name": "stdout",
     "output_type": "stream",
     "text": [
      "1\n",
      "2\n",
      "3\n",
      "4\n",
      "lx\n",
      "刘旭\n",
      "5\n"
     ]
    }
   ],
   "source": [
    "with open('test.txt','r',encoding=\"utf-8\") as f:#支持中文\n",
    "    line = f.readlines()\n",
    "    for l in line:\n",
    "        print(l.strip())      \n",
    "       "
   ]
  },
  {
   "cell_type": "code",
   "execution_count": 51,
   "metadata": {},
   "outputs": [],
   "source": [
    "#json \n",
    "from __future__ import unicode_literals\n",
    "import json\n",
    "config={\"lx\":\"刘旭\",\"cjw\":\"蔡佳伟\"}\n",
    "with open('config.json','w+',encoding=\"utf-8\") as f:\n",
    "    json.dump(config,f,ensure_ascii=False)\n"
   ]
  },
  {
   "cell_type": "code",
   "execution_count": 52,
   "metadata": {},
   "outputs": [
    {
     "name": "stdout",
     "output_type": "stream",
     "text": [
      "{'lx': '刘旭', 'cjw': '蔡佳伟'}\n"
     ]
    }
   ],
   "source": [
    "with open('config.json','r',encoding=\"utf-8\") as f:\n",
    "    new_config=json.load(f)\n",
    "print(new_config)"
   ]
  },
  {
   "cell_type": "code",
   "execution_count": null,
   "metadata": {},
   "outputs": [],
   "source": [
    "#csv\n",
    "with open('sales.csv','r') as f:\n",
    "    reader = csv.reader(f)\n",
    "    headers = next(reader)\n",
    "    for row in reader:\n",
    "        label_list.append(row[-1])\n",
    "        row_dict = {}\n",
    "        for i in range(1, len(row) - 1):\n",
    "            row_dict[headers[i]] = row[i]\n",
    "        feature_list.append(row_dict)\n",
    "print(feature_list)\n",
    "print(label_list)"
   ]
  },
  {
   "cell_type": "code",
   "execution_count": null,
   "metadata": {},
   "outputs": [],
   "source": [
    "# 使用线程池实现对50个文本进行单词出现频率统计并汇总结果（可以自己写个随机文本产生器）\n",
    "# 读取文本文件，将全部内容倒序后写入新文件。\n"
   ]
  }
 ],
 "metadata": {
  "kernelspec": {
   "display_name": "Python 3",
   "language": "python",
   "name": "python3"
  },
  "language_info": {
   "codemirror_mode": {
    "name": "ipython",
    "version": 3
   },
   "file_extension": ".py",
   "mimetype": "text/x-python",
   "name": "python",
   "nbconvert_exporter": "python",
   "pygments_lexer": "ipython3",
   "version": "3.6.4"
  }
 },
 "nbformat": 4,
 "nbformat_minor": 2
}
