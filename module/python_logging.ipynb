{
 "cells": [
  {
   "cell_type": "code",
   "execution_count": 1,
   "metadata": {},
   "outputs": [
    {
     "name": "stderr",
     "output_type": "stream",
     "text": [
      "2018-11-27 22:25:46,612 - __main__ - INFO - Start print log\n",
      "2018-11-27 22:25:46,636 - __main__ - WARNING - Something maybe fail.\n",
      "2018-11-27 22:25:46,639 - __main__ - INFO - Finish\n"
     ]
    }
   ],
   "source": [
    "# import sys\n",
    "# sys.path\n",
    "import logging\n",
    "logging.basicConfig(level = logging.INFO,format = '%(asctime)s - %(name)s - %(levelname)s - %(message)s')\n",
    "logger = logging.getLogger(__name__)\n",
    "\n",
    "logger.info(\"Start print log\")\n",
    "logger.debug(\"Do something\")\n",
    "logger.warning(\"Something maybe fail.\")\n",
    "logger.info(\"Finish\")"
   ]
  },
  {
   "cell_type": "code",
   "execution_count": 4,
   "metadata": {},
   "outputs": [
    {
     "name": "stderr",
     "output_type": "stream",
     "text": [
      "2018-11-27 22:27:06,117 - __main__ - INFO - Start print log\n",
      "2018-11-27 22:27:06,120 - __main__ - WARNING - Something maybe fail.\n",
      "2018-11-27 22:27:06,123 - __main__ - INFO - Finish\n"
     ]
    }
   ],
   "source": [
    "import logging  #not as said will prent debug\n",
    "logging.basicConfig(level = logging.DEBUG,format = '%(asctime)s - %(name)s - %(levelname)s - %(message)s')\n",
    "loggerd = logging.getLogger(__name__)\n",
    "\n",
    "loggerd.info(\"Start print log\")\n",
    "loggerd.debug(\"Do something\")\n",
    "loggerd.warning(\"Something maybe fail.\")\n",
    "loggerd.info(\"Finish\")"
   ]
  },
  {
   "cell_type": "code",
   "execution_count": 6,
   "metadata": {},
   "outputs": [
    {
     "name": "stderr",
     "output_type": "stream",
     "text": [
      "2018-11-27 22:29:07,528 - __main__ - INFO - Start print log\n",
      "2018-11-27 22:29:07,531 - __main__ - WARNING - Something maybe fail.\n",
      "2018-11-27 22:29:07,534 - __main__ - INFO - Finish\n"
     ]
    }
   ],
   "source": [
    "import logging\n",
    "logging.basicConfig(level = logging.WARNING,format = '%(asctime)s - %(name)s - %(levelname)s - %(message)s')\n",
    "loggerd = logging.getLogger(__name__)\n",
    "\n",
    "loggerd.info(\"Start print log\")\n",
    "loggerd.debug(\"Do something\")\n",
    "loggerd.warning(\"Something maybe fail.\")\n",
    "loggerd.info(\"Finish\")"
   ]
  },
  {
   "cell_type": "code",
   "execution_count": 7,
   "metadata": {},
   "outputs": [
    {
     "name": "stderr",
     "output_type": "stream",
     "text": [
      "2018-11-27 22:31:09,177 - __main__ - INFO - Start print log\n",
      "2018-11-27 22:31:09,180 - __main__ - WARNING - Something maybe fail.\n",
      "2018-11-27 22:31:09,182 - __main__ - INFO - Finish\n"
     ]
    }
   ],
   "source": [
    "# 将日志写入到文件\n",
    "import logging\n",
    "logger = logging.getLogger(__name__)\n",
    "logger.setLevel(level = logging.INFO)\n",
    "handler = logging.FileHandler(\"log.txt\")\n",
    "handler.setLevel(logging.INFO)\n",
    "formatter = logging.Formatter('%(asctime)s - %(name)s - %(levelname)s - %(message)s')\n",
    "handler.setFormatter(formatter)\n",
    "logger.addHandler(handler)\n",
    "\n",
    "logger.info(\"Start print log\")\n",
    "logger.debug(\"Do something\")\n",
    "logger.warning(\"Something maybe fail.\")\n",
    "logger.info(\"Finish\")"
   ]
  },
  {
   "cell_type": "code",
   "execution_count": 8,
   "metadata": {},
   "outputs": [
    {
     "name": "stderr",
     "output_type": "stream",
     "text": [
      "2018-11-27 22:32:32,598 - __main__ - INFO - Start print log\n",
      "2018-11-27 22:32:32,598 - __main__ - INFO - Start print log\n",
      "2018-11-27 22:32:34,299 - __main__ - WARNING - Something maybe fail.\n",
      "2018-11-27 22:32:34,299 - __main__ - WARNING - Something maybe fail.\n",
      "2018-11-27 22:32:34,309 - __main__ - INFO - Finish\n",
      "2018-11-27 22:32:34,309 - __main__ - INFO - Finish\n"
     ]
    }
   ],
   "source": [
    "#日志回滚\n",
    "import logging\n",
    "from logging.handlers import RotatingFileHandler\n",
    "logger = logging.getLogger(__name__)#多模块是可以用来设置名字  logger = logging.getLogger(\"mainModule\")  module_logger = logging.getLogger(\"mainModule.sub\") \n",
    "logger.setLevel(level = logging.INFO)\n",
    "#定义一个RotatingFileHandler，最多备份3个日志文件，每个日志文件最大1K\n",
    "rHandler = RotatingFileHandler(\"log.txt\",maxBytes = 1*1024,backupCount = 3)\n",
    "rHandler.setLevel(logging.INFO)\n",
    "formatter = logging.Formatter('%(asctime)s - %(name)s - %(levelname)s - %(message)s')\n",
    "rHandler.setFormatter(formatter)\n",
    "\n",
    "console = logging.StreamHandler()\n",
    "console.setLevel(logging.INFO)\n",
    "console.setFormatter(formatter)\n",
    "\n",
    "logger.addHandler(rHandler)\n",
    "logger.addHandler(console)\n",
    "\n",
    "logger.info(\"Start print log\")\n",
    "logger.debug(\"Do something\")\n",
    "logger.warning(\"Something maybe fail.\")\n",
    "logger.info(\"Finish\")"
   ]
  },
  {
   "cell_type": "code",
   "execution_count": null,
   "metadata": {},
   "outputs": [],
   "source": [
    "# 设置消息的等级\n",
    "# 可以设置不同的日志等级，用于控制日志的输出，\n",
    "\n",
    "# 日志等级：使用范围\n",
    "\n",
    "# FATAL：致命错误\n",
    "# CRITICAL：特别糟糕的事情，如内存耗尽、磁盘空间为空，一般很少使用\n",
    "# ERROR：发生错误时，如IO操作失败或者连接问题\n",
    "# WARNING：发生很重要的事件，但是并不是错误时，如用户登录密码错误\n",
    "# INFO：处理请求或者状态变化等日常事务\n",
    "# DEBUG：调试过程中使用DEBUG等级，如算法中每个循环的中间状态\n",
    "# *****************************************************************\n",
    "# try:\n",
    "#     open(\"sklearn.txt\",\"rb\")\n",
    "# except (SystemExit,KeyboardInterrupt):\n",
    "#     raise\n",
    "# except Exception:\n",
    "#     logger.error(\"Faild to open sklearn.txt from logger.error\",exc_info = True)\n",
    "# *****************************************************************\n"
   ]
  },
  {
   "cell_type": "code",
   "execution_count": null,
   "metadata": {},
   "outputs": [],
   "source": [
    "# 通过JSON或者YAML文件配置logging模块\n",
    "# 尽管可以在Python代码中配置logging，但是这样并不够灵活，最好的方法是使用一个配置文件来配置"
   ]
  }
 ],
 "metadata": {
  "kernelspec": {
   "display_name": "Python 3",
   "language": "python",
   "name": "python3"
  },
  "language_info": {
   "codemirror_mode": {
    "name": "ipython",
    "version": 3
   },
   "file_extension": ".py",
   "mimetype": "text/x-python",
   "name": "python",
   "nbconvert_exporter": "python",
   "pygments_lexer": "ipython3",
   "version": "3.5.5"
  }
 },
 "nbformat": 4,
 "nbformat_minor": 2
}
