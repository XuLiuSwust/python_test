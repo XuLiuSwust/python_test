{
 "cells": [
  {
   "cell_type": "code",
   "execution_count": 5,
   "metadata": {},
   "outputs": [
    {
     "name": "stdout",
     "output_type": "stream",
     "text": [
      "[Getting data:]###########[Getting data:]###########\n",
      "              open    high   close     low      volume       amount\n",
      "date                                                               \n",
      "2018-12-10  134.55  136.17  135.30  134.55  15927563.0  172346141.0\n",
      "2018-12-11  135.42  136.17  133.92  133.55  17234222.0  185675067.0\n",
      "2018-12-12  136.04  136.04  134.05  133.67  12448791.0  134006589.0\n",
      "2018-12-13  134.42  135.67  134.92  134.05  19792340.0  213866046.0\n",
      "2018-12-14  134.17  134.92  132.67  132.30  24163831.0  257441060.0\n",
      "            open  high  close   low      volume       amount\n",
      "date                                                        \n",
      "2018-12-10  5.25  5.27   5.23  5.22  33902143.0  129289992.0\n",
      "2018-12-11  5.23  5.26   5.23  5.22  23596596.0   90062461.0\n",
      "2018-12-12  5.26  5.26   5.25  5.23  23918408.0   91411769.0\n",
      "2018-12-13  5.26  5.36   5.29  5.23  52152951.0  201428063.0\n",
      "2018-12-14  5.29  5.30   5.23  5.21  51955844.0  198219226.0\n"
     ]
    }
   ],
   "source": [
    "import matplotlib.pyplot as plt\n",
    "import numpy as np\n",
    "import pandas as pd\n",
    "import tushare as ts\n",
    "\n",
    "# 获取数据\n",
    "s_pf = '600000' # 浦发\n",
    "s_gd = '601818' # 光大\n",
    "sdate = '2016-01-01'\n",
    "edate = '2018-12-14'\n",
    "df_pf = ts.get_h_data(s_pf,autype='hfq', start = sdate, end = edate).sort_index(axis = 0, ascending = True)\n",
    "df_gd = ts.get_h_data(s_gd,autype='hfq',start = sdate, end = edate).sort_index(axis = 0, ascending = True)\n",
    "# df_pf\n",
    "print('')\n",
    "print(df_pf.tail())\n",
    "print(df_gd.tail())\n",
    "\n",
    "# # 合并到新的df\n",
    "# df = pd.concat([df_pf.close, df_gd.close], axis = 1, keys = ['pf_close', 'gd_close'])\n",
    "# df.ffill(axis = 0, inplace = True) # 填充停牌期间数据\n",
    "# df.to_csv('pf_gd.csv')\n",
    "# '''\n",
    "# df = pd.read_csv('pf_gd.csv')\n",
    "# '''\n",
    "# # 计算相关性\n",
    "# print(df.corr(method = 'pearson', min_periods = 1))\n",
    "\n",
    "# # 打印价格曲线\n",
    "# df.plot(figsize = (20, 12))\n",
    "# plt.savefig(\"pf_gd.jpg\")\n",
    "# plt.close()\n",
    "\n",
    "# # 归一化后打印价格曲线\n",
    "# df['pf_one'] = df.pf_close / float(df.pf_close[0]) * 100\n",
    "# df['gd_one'] = df.gd_close / float(df.gd_close[0]) * 100\n",
    "# df.pf_one.plot(figsize = (20, 12))\n",
    "# df.gd_one.plot(figsize = (20, 12))\n",
    "# plt.savefig(\"pf_gd_one.jpg\")\n",
    "# plt.close()"
   ]
  },
  {
   "cell_type": "code",
   "execution_count": 6,
   "metadata": {},
   "outputs": [
    {
     "name": "stdout",
     "output_type": "stream",
     "text": [
      "          pf_close  gd_close\n",
      "pf_close  1.000000  0.320847\n",
      "gd_close  0.320847  1.000000\n"
     ]
    }
   ],
   "source": [
    "# # 合并到新的df\n",
    "df = pd.concat([df_pf.close, df_gd.close], axis = 1, keys = ['pf_close', 'gd_close'])\n",
    "df.ffill(axis = 0, inplace = True) # 填充停牌期间数据\n",
    "df.to_csv('pf_gd.csv')\n",
    "'''\n",
    "df = pd.read_csv('pf_gd.csv')\n",
    "'''\n",
    "# 计算相关性\n",
    "print(df.corr(method = 'pearson', min_periods = 1))\n",
    "\n",
    "# 打印价格曲线\n",
    "df.plot(figsize = (20, 12))\n",
    "plt.savefig(\"pf_gd.jpg\")\n",
    "plt.close()\n",
    "\n",
    "# 归一化后打印价格曲线\n",
    "df['pf_one'] = df.pf_close / float(df.pf_close[0]) * 100\n",
    "df['gd_one'] = df.gd_close / float(df.gd_close[0]) * 100\n",
    "df.pf_one.plot(figsize = (20, 12))\n",
    "df.gd_one.plot(figsize = (20, 12))\n",
    "plt.savefig(\"pf_gd_one.jpg\")\n",
    "plt.close()"
   ]
  },
  {
   "cell_type": "code",
   "execution_count": 9,
   "metadata": {},
   "outputs": [
    {
     "name": "stdout",
     "output_type": "stream",
     "text": [
      "         date  pf_close  gd_close\n",
      "0  2016-01-04    146.68      4.93\n",
      "1  2016-01-05    148.00      4.96\n",
      "3  2016-01-07    144.29      4.81\n",
      "4  2016-01-08    144.12      4.90\n"
     ]
    }
   ],
   "source": [
    "df = pd.read_csv('pf_gd.csv')\n",
    "df1 = df[:5]\n",
    "df2 = df1.drop(2)\n",
    "print(df2)"
   ]
  },
  {
   "cell_type": "code",
   "execution_count": 11,
   "metadata": {},
   "outputs": [
    {
     "data": {
      "text/html": [
       "<div>\n",
       "<style scoped>\n",
       "    .dataframe tbody tr th:only-of-type {\n",
       "        vertical-align: middle;\n",
       "    }\n",
       "\n",
       "    .dataframe tbody tr th {\n",
       "        vertical-align: top;\n",
       "    }\n",
       "\n",
       "    .dataframe thead th {\n",
       "        text-align: right;\n",
       "    }\n",
       "</style>\n",
       "<table border=\"1\" class=\"dataframe\">\n",
       "  <thead>\n",
       "    <tr style=\"text-align: right;\">\n",
       "      <th></th>\n",
       "      <th>date</th>\n",
       "      <th>pf_close</th>\n",
       "      <th>gd_close</th>\n",
       "    </tr>\n",
       "  </thead>\n",
       "  <tbody>\n",
       "    <tr>\n",
       "      <th>0</th>\n",
       "      <td>2016-01-04</td>\n",
       "      <td>146.68</td>\n",
       "      <td>4.93</td>\n",
       "    </tr>\n",
       "    <tr>\n",
       "      <th>1</th>\n",
       "      <td>2016-01-05</td>\n",
       "      <td>148.00</td>\n",
       "      <td>4.96</td>\n",
       "    </tr>\n",
       "    <tr>\n",
       "      <th>3</th>\n",
       "      <td>2016-01-07</td>\n",
       "      <td>144.29</td>\n",
       "      <td>4.81</td>\n",
       "    </tr>\n",
       "    <tr>\n",
       "      <th>4</th>\n",
       "      <td>2016-01-08</td>\n",
       "      <td>144.12</td>\n",
       "      <td>4.90</td>\n",
       "    </tr>\n",
       "  </tbody>\n",
       "</table>\n",
       "</div>"
      ],
      "text/plain": [
       "         date  pf_close  gd_close\n",
       "0  2016-01-04    146.68      4.93\n",
       "1  2016-01-05    148.00      4.96\n",
       "3  2016-01-07    144.29      4.81\n",
       "4  2016-01-08    144.12      4.90"
      ]
     },
     "execution_count": 11,
     "metadata": {},
     "output_type": "execute_result"
    }
   ],
   "source": [
    "df2.ix[:]"
   ]
  },
  {
   "cell_type": "code",
   "execution_count": 21,
   "metadata": {},
   "outputs": [
    {
     "data": {
      "text/plain": [
       "1    148.00\n",
       "3    144.29\n",
       "4    144.12\n",
       "Name: pf_close, dtype: float64"
      ]
     },
     "execution_count": 21,
     "metadata": {},
     "output_type": "execute_result"
    }
   ],
   "source": [
    "#revise index\n",
    "df2.loc[3,'pf_close']\n",
    "df2.iloc[2,2]\n",
    "df2.ix[1:4,1]\n",
    "#df2.ix[1:4,'gd_close']"
   ]
  },
  {
   "cell_type": "code",
   "execution_count": 52,
   "metadata": {},
   "outputs": [
    {
     "name": "stdout",
     "output_type": "stream",
     "text": [
      "         date  pf_close  gd_close        date  pf_close  gd_close\n",
      "0         NaN       NaN       NaN  2016-01-04    146.68      4.93\n",
      "1         NaN       NaN       NaN  2016-01-05    148.00      4.96\n",
      "3         NaN       NaN       NaN  2016-01-07    144.29      4.81\n",
      "4         NaN       NaN       NaN  2016-01-08    144.12      4.90\n",
      "5  2016-01-11    140.50      4.69         NaN       NaN       NaN\n",
      "6  2016-01-12    143.79      4.71         NaN       NaN       NaN\n",
      "7  2016-01-13    143.30      4.65         NaN       NaN       NaN\n",
      "8  2016-01-14    147.67      4.65         NaN       NaN       NaN\n",
      "9  2016-01-15    144.87      4.50         NaN       NaN       NaN\n"
     ]
    }
   ],
   "source": [
    "df2['pf_close']\n",
    "df2['pf_close'][1]\n",
    "df2.index\n",
    "df2.columns\n",
    "\n",
    "# df3 = pd.DataFrame(df2,index=[\"a\",\"b\",\"c\",\"d\"])\n",
    "df3 = df[5:10]\n",
    "con = [df3,df2]\n",
    "df4 = pd.concat(con)\n",
    "df5 = df4.reindex([0,1,3,4,5,6,7,8,9])\n",
    "df6 = pd.concat(con,axis=1)\n",
    "df7 = pd.concat(con, axis=1, join='inner')\n",
    "print(df6)\n",
    "# print(df7)"
   ]
  },
  {
   "cell_type": "code",
   "execution_count": 66,
   "metadata": {},
   "outputs": [
    {
     "name": "stdout",
     "output_type": "stream",
     "text": [
      "         date  pf_close  gd_close        date  pf_close  gd_close\n",
      "0         NaN       NaN       NaN  2016-01-04    146.68      4.93\n",
      "1         NaN       NaN       NaN  2016-01-05    148.00      4.96\n",
      "3         NaN       NaN       NaN  2016-01-07    144.29      4.81\n",
      "4         NaN       NaN       NaN  2016-01-08    144.12      4.90\n",
      "5  2016-01-11    140.50      4.69         NaN       NaN       NaN\n",
      "6  2016-01-12    143.79      4.71         NaN       NaN       NaN\n",
      "7  2016-01-13    143.30      4.65         NaN       NaN       NaN\n",
      "8          10     10.00      4.65          10     10.00       NaN\n",
      "9          10     10.00      4.50          10     10.00       NaN\n"
     ]
    }
   ],
   "source": [
    "# import datetime as dt\n",
    "# fecha_1 = dt.datetime(2013, 4, 14)\n",
    "# print(fecha_1)\n",
    "df6.ix[8:9,0:2] = 10\n",
    "print(df6)"
   ]
  },
  {
   "cell_type": "code",
   "execution_count": 68,
   "metadata": {},
   "outputs": [
    {
     "data": {
      "text/html": [
       "<div>\n",
       "<style scoped>\n",
       "    .dataframe tbody tr th:only-of-type {\n",
       "        vertical-align: middle;\n",
       "    }\n",
       "\n",
       "    .dataframe tbody tr th {\n",
       "        vertical-align: top;\n",
       "    }\n",
       "\n",
       "    .dataframe thead th {\n",
       "        text-align: right;\n",
       "    }\n",
       "</style>\n",
       "<table border=\"1\" class=\"dataframe\">\n",
       "  <thead>\n",
       "    <tr style=\"text-align: right;\">\n",
       "      <th></th>\n",
       "      <th>date</th>\n",
       "      <th>pf_close</th>\n",
       "      <th>gd_close</th>\n",
       "    </tr>\n",
       "  </thead>\n",
       "  <tbody>\n",
       "    <tr>\n",
       "      <th>5</th>\n",
       "      <td>2016-01-11</td>\n",
       "      <td>140.50</td>\n",
       "      <td>4.69</td>\n",
       "    </tr>\n",
       "    <tr>\n",
       "      <th>6</th>\n",
       "      <td>2016-01-12</td>\n",
       "      <td>143.79</td>\n",
       "      <td>4.71</td>\n",
       "    </tr>\n",
       "    <tr>\n",
       "      <th>7</th>\n",
       "      <td>2016-01-13</td>\n",
       "      <td>143.30</td>\n",
       "      <td>4.65</td>\n",
       "    </tr>\n",
       "    <tr>\n",
       "      <th>8</th>\n",
       "      <td>2016-01-14</td>\n",
       "      <td>147.67</td>\n",
       "      <td>4.65</td>\n",
       "    </tr>\n",
       "    <tr>\n",
       "      <th>9</th>\n",
       "      <td>2016-01-15</td>\n",
       "      <td>144.87</td>\n",
       "      <td>4.50</td>\n",
       "    </tr>\n",
       "    <tr>\n",
       "      <th>0</th>\n",
       "      <td>2016-01-04</td>\n",
       "      <td>146.68</td>\n",
       "      <td>4.93</td>\n",
       "    </tr>\n",
       "    <tr>\n",
       "      <th>1</th>\n",
       "      <td>2016-01-05</td>\n",
       "      <td>148.00</td>\n",
       "      <td>4.96</td>\n",
       "    </tr>\n",
       "    <tr>\n",
       "      <th>3</th>\n",
       "      <td>2016-01-07</td>\n",
       "      <td>144.29</td>\n",
       "      <td>4.81</td>\n",
       "    </tr>\n",
       "    <tr>\n",
       "      <th>4</th>\n",
       "      <td>2016-01-08</td>\n",
       "      <td>144.12</td>\n",
       "      <td>4.90</td>\n",
       "    </tr>\n",
       "  </tbody>\n",
       "</table>\n",
       "</div>"
      ],
      "text/plain": [
       "         date  pf_close  gd_close\n",
       "5  2016-01-11    140.50      4.69\n",
       "6  2016-01-12    143.79      4.71\n",
       "7  2016-01-13    143.30      4.65\n",
       "8  2016-01-14    147.67      4.65\n",
       "9  2016-01-15    144.87      4.50\n",
       "0  2016-01-04    146.68      4.93\n",
       "1  2016-01-05    148.00      4.96\n",
       "3  2016-01-07    144.29      4.81\n",
       "4  2016-01-08    144.12      4.90"
      ]
     },
     "execution_count": 68,
     "metadata": {},
     "output_type": "execute_result"
    }
   ],
   "source": [
    "df8 = df3.append(df2)\n",
    "df8"
   ]
  },
  {
   "cell_type": "code",
   "execution_count": 75,
   "metadata": {},
   "outputs": [
    {
     "name": "stdout",
     "output_type": "stream",
     "text": [
      "   ax\n",
      "5  10\n",
      "6  10\n",
      "7  10\n",
      "8  10\n",
      "9  10\n"
     ]
    },
    {
     "name": "stderr",
     "output_type": "stream",
     "text": [
      "D:\\ProgramData\\Anaconda3\\lib\\site-packages\\ipykernel_launcher.py:2: SettingWithCopyWarning: \n",
      "A value is trying to be set on a copy of a slice from a DataFrame.\n",
      "Try using .loc[row_indexer,col_indexer] = value instead\n",
      "\n",
      "See the caveats in the documentation: http://pandas.pydata.org/pandas-docs/stable/indexing.html#indexing-view-versus-copy\n",
      "  \n"
     ]
    }
   ],
   "source": [
    "k=df3\n",
    "k['ax'] = 10\n",
    "n = k.drop(['date','pf_close','gd_close'],axis = 1)\n",
    "print(n)\n",
    "# df9 = df3.join(n)\n",
    "# df9"
   ]
  },
  {
   "cell_type": "code",
   "execution_count": null,
   "metadata": {},
   "outputs": [],
   "source": []
  },
  {
   "cell_type": "code",
   "execution_count": null,
   "metadata": {},
   "outputs": [],
   "source": []
  }
 ],
 "metadata": {
  "kernelspec": {
   "display_name": "Python 3",
   "language": "python",
   "name": "python3"
  },
  "language_info": {
   "codemirror_mode": {
    "name": "ipython",
    "version": 3
   },
   "file_extension": ".py",
   "mimetype": "text/x-python",
   "name": "python",
   "nbconvert_exporter": "python",
   "pygments_lexer": "ipython3",
   "version": "3.6.4"
  }
 },
 "nbformat": 4,
 "nbformat_minor": 2
}
